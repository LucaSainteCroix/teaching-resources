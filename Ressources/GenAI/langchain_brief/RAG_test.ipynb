{
 "cells": [
  {
   "cell_type": "code",
   "execution_count": 1,
   "metadata": {},
   "outputs": [],
   "source": [
    "import os\n",
    "\n",
    "from dotenv import load_dotenv, find_dotenv\n",
    "_ = load_dotenv(find_dotenv()) # read local .env file\n",
    "\n",
    "azure_openai_api_key = os.getenv(\"AZURE_OPENAI_API_KEY_4\")\n",
    "azure_openai_api_endpoint = os.getenv(\"AZURE_OPENAI_API_ENDPOINT_4\")\n",
    "deployment_name = os.getenv(\"AZURE_DEPLOYMENT_NAME_4\")"
   ]
  },
  {
   "cell_type": "code",
   "execution_count": 2,
   "metadata": {},
   "outputs": [],
   "source": [
    "from langchain.chains import RetrievalQA\n",
    "from langchain.chat_models import AzureChatOpenAI\n",
    "from langchain.document_loaders import CSVLoader\n",
    "from langchain_community.document_loaders.dataframe import DataFrameLoader\n",
    "# from langchain_chroma import Chroma\n",
    "from langchain_community.vectorstores import FAISS\n",
    "from langchain.indexes import VectorstoreIndexCreator\n",
    "from IPython.display import display, Markdown\n",
    "from langchain_openai import AzureOpenAIEmbeddings"
   ]
  },
  {
   "cell_type": "code",
   "execution_count": 3,
   "metadata": {},
   "outputs": [
    {
     "name": "stderr",
     "output_type": "stream",
     "text": [
      "/tmp/ipykernel_22182/1810801969.py:1: LangChainDeprecationWarning: The class `AzureChatOpenAI` was deprecated in LangChain 0.0.10 and will be removed in 1.0. An updated version of the class exists in the :class:`~langchain-openai package and should be used instead. To use it run `pip install -U :class:`~langchain-openai` and import as `from :class:`~langchain_openai import AzureChatOpenAI``.\n",
      "  llm = AzureChatOpenAI(api_key=azure_openai_api_key,\n"
     ]
    }
   ],
   "source": [
    "llm = AzureChatOpenAI(api_key=azure_openai_api_key,\n",
    "                        api_version=\"2023-12-01-preview\",\n",
    "                        azure_endpoint=azure_openai_api_endpoint,\n",
    "                        model=deployment_name,\n",
    "                        temperature=0.9\n",
    "                        )"
   ]
  },
  {
   "cell_type": "code",
   "execution_count": 5,
   "metadata": {},
   "outputs": [],
   "source": [
    "embeddings = AzureOpenAIEmbeddings(openai_api_key=azure_openai_api_key,\n",
    "                                    azure_deployment='text-embedding-3-large',\n",
    "                                    azure_endpoint=azure_openai_api_endpoint,\n",
    "                                    openai_api_version=\"2023-05-15\",\n",
    "                                    chunk_size=500\n",
    ")\n",
    "\n",
    "\n",
    "# vectorstore = FAISS.from_documents(documents, embeddings)\n",
    "# vectorstore"
   ]
  },
  {
   "cell_type": "code",
   "execution_count": 21,
   "metadata": {},
   "outputs": [
    {
     "ename": "AttributeError",
     "evalue": "'int' object has no attribute 'shape'",
     "output_type": "error",
     "traceback": [
      "\u001b[0;31m---------------------------------------------------------------------------\u001b[0m",
      "\u001b[0;31mAttributeError\u001b[0m                            Traceback (most recent call last)",
      "Cell \u001b[0;32mIn[21], line 3\u001b[0m\n\u001b[1;32m      1\u001b[0m \u001b[38;5;28;01mimport\u001b[39;00m \u001b[38;5;21;01mfaiss\u001b[39;00m\n\u001b[1;32m      2\u001b[0m index \u001b[38;5;241m=\u001b[39m faiss\u001b[38;5;241m.\u001b[39mread_index(\u001b[38;5;124m\"\u001b[39m\u001b[38;5;124mcorrection/faiss_vector_store/index.faiss\u001b[39m\u001b[38;5;124m\"\u001b[39m, faiss\u001b[38;5;241m.\u001b[39mIO_FLAG_MMAP \u001b[38;5;241m|\u001b[39m faiss\u001b[38;5;241m.\u001b[39mIO_FLAG_READ_ONLY)\n\u001b[0;32m----> 3\u001b[0m \u001b[43mindex\u001b[49m\u001b[38;5;241;43m.\u001b[39;49m\u001b[43msearch\u001b[49m\u001b[43m(\u001b[49m\u001b[38;5;241;43m3\u001b[39;49m\u001b[43m,\u001b[49m\u001b[43mk\u001b[49m\u001b[38;5;241;43m=\u001b[39;49m\u001b[38;5;241;43m2\u001b[39;49m\u001b[43m)\u001b[49m\n",
      "File \u001b[0;32m~/.pyenv/versions/3.10.8/envs/langchain_brief_env/lib/python3.10/site-packages/faiss/class_wrappers.py:327\u001b[0m, in \u001b[0;36mhandle_Index.<locals>.replacement_search\u001b[0;34m(self, x, k, params, D, I)\u001b[0m\n\u001b[1;32m    300\u001b[0m \u001b[38;5;28;01mdef\u001b[39;00m \u001b[38;5;21mreplacement_search\u001b[39m(\u001b[38;5;28mself\u001b[39m, x, k, \u001b[38;5;241m*\u001b[39m, params\u001b[38;5;241m=\u001b[39m\u001b[38;5;28;01mNone\u001b[39;00m, D\u001b[38;5;241m=\u001b[39m\u001b[38;5;28;01mNone\u001b[39;00m, I\u001b[38;5;241m=\u001b[39m\u001b[38;5;28;01mNone\u001b[39;00m):\n\u001b[1;32m    301\u001b[0m \u001b[38;5;250m    \u001b[39m\u001b[38;5;124;03m\"\"\"Find the k nearest neighbors of the set of vectors x in the index.\u001b[39;00m\n\u001b[1;32m    302\u001b[0m \n\u001b[1;32m    303\u001b[0m \u001b[38;5;124;03m    Parameters\u001b[39;00m\n\u001b[0;32m   (...)\u001b[0m\n\u001b[1;32m    324\u001b[0m \u001b[38;5;124;03m        When not enough results are found, the label is set to -1\u001b[39;00m\n\u001b[1;32m    325\u001b[0m \u001b[38;5;124;03m    \"\"\"\u001b[39;00m\n\u001b[0;32m--> 327\u001b[0m     n, d \u001b[38;5;241m=\u001b[39m \u001b[43mx\u001b[49m\u001b[38;5;241;43m.\u001b[39;49m\u001b[43mshape\u001b[49m\n\u001b[1;32m    328\u001b[0m     x \u001b[38;5;241m=\u001b[39m np\u001b[38;5;241m.\u001b[39mascontiguousarray(x, dtype\u001b[38;5;241m=\u001b[39m\u001b[38;5;124m'\u001b[39m\u001b[38;5;124mfloat32\u001b[39m\u001b[38;5;124m'\u001b[39m)\n\u001b[1;32m    329\u001b[0m     \u001b[38;5;28;01massert\u001b[39;00m d \u001b[38;5;241m==\u001b[39m \u001b[38;5;28mself\u001b[39m\u001b[38;5;241m.\u001b[39md\n",
      "\u001b[0;31mAttributeError\u001b[0m: 'int' object has no attribute 'shape'"
     ]
    }
   ],
   "source": [
    "import faiss\n",
    "index = faiss.read_index(\"correction/faiss_vector_store/index.faiss\", faiss.IO_FLAG_MMAP | faiss.IO_FLAG_READ_ONLY)\n",
    "index.search(,k=2)"
   ]
  },
  {
   "cell_type": "code",
   "execution_count": 8,
   "metadata": {},
   "outputs": [
    {
     "data": {
      "text/plain": [
       "[Document(metadata={'source': 'gutenberg_ebooks_modified.csv', 'row': 0}, page_content=': 0\\nindex: 0\\nEbook ID: 8600\\nAuthor: Zola, Émile, 1840-1902\\nTitle: L\\'Assommoir\\nCredits: John Bickers, Dagny and David Widger\\nSummary: \"L\\'Assommoir\" by Émile Zola is a novel written during the late 19th century, an era characterized by the realism movement in literature. The book explores the struggles of Gervaise, a laundress trying to build a life for herself and her children amidst the oppressive and often brutal conditions of working-class Paris. The story highlights themes of poverty, domestic strife, and the impact of alcoholism on individuals and families.  The opening of \"L\\'Assommoir\" presents Gervaise in a state of despair, anxiously awaiting the return of Lantier, her partner, who has been increasingly unfaithful and irresponsible. The narrative depicts her emotional turmoil as she reflects on their meager living conditions and the struggles of single motherhood. Gervaise\\'s observations of the bustling street below reveal the harsh realities faced by workers in the city, and through her interactions with Lantier, the text illustrates the complexities of love, frustration, and survival in a difficult social environment. The chapter sets the stage for the unfolding of Gervaise\\'s life, marked by hope yet overshadowed by the challenges of her circumstances and her relationships. (This is an automatically generated summary.)\\nLanguage: English\\nLibrary of Congress Classification: PQ: Language and Literatures: Romance literatures: French, Italian, Spanish, Portuguese\\nCategory: Text\\nEBook-No.: 8600\\nRelease Date: Apr 27, 2006\\nMost Recently Updated: Sep 15, 2022\\nCopyright Status: Public domain in the USA.\\nDownloads: 455 downloads in the last 30 days.\\nSubjects: Domestic fiction, Married women -- Fiction, Paris (France) -- Fiction, Working class women -- Fiction'),\n",
       " Document(metadata={'source': 'gutenberg_ebooks_modified.csv', 'row': 694}, page_content=': 694\\nindex: 722\\nEbook ID: 728\\nAuthor: Howells, William Dean, 1837-1920\\nTitle: Emile Zola\\nCredits: Produced by Anthony J. Adam.\\nSummary: \"Emile Zola\" by William Dean Howells is a biography written in the early 20th century. This book provides an insightful exploration of the life and work of Emile Zola, a pivotal figure in the literary realism movement. The narrative delves into Zola\\'s philosophy of literature, his influence on society, and his complex relationship with the themes of morality and realism.  In this work, Howells presents Zola as a dynamic and often paradoxical character—a man who strived for realism but was deeply influenced by romanticism. The biography discusses Zola’s literary contributions, particularly his epic approach to narratives that spotlight social issues such as poverty, labor strikes, and moral decay. It also highlights his courageous stance during the Dreyfus Affair, portraying Zola as a moral champion who fought against injustice. Howells effectively illustrates how Zola\\'s writings capture the essence of human experience while maintaining a commitment to truth and ethical representation, emphasizing the enduring impact Zola has had on both literature and social activism. (This is an automatically generated summary.)\\nLanguage: English\\nLibrary of Congress Classification: PQ: Language and Literatures: Romance literatures: French, Italian, Spanish, Portuguese\\nCategory: Text\\nEBook-No.: 728\\nRelease Date: Nov 1, 1996\\nMost Recently Updated: Jan 1, 2021\\nCopyright Status: Public domain in the USA.\\nDownloads: 86 downloads in the last 30 days.\\nSubjects: Zola, Émile, 1840-1902')]"
      ]
     },
     "execution_count": 8,
     "metadata": {},
     "output_type": "execute_result"
    }
   ],
   "source": [
    "vectorstore = FAISS.load_local('correction/faiss_vector_store', embeddings=embeddings, allow_dangerous_deserialization=True)\n",
    "retriever = vectorstore.as_retriever(search_type=\"similarity_score_threshold\", search_kwargs={\"score_threshold\": 0.1})\n",
    "docs = retriever.invoke('When did the author of \"L\\'assommoir\" die?')\n",
    "docs"
   ]
  },
  {
   "cell_type": "code",
   "execution_count": 14,
   "metadata": {},
   "outputs": [
    {
     "data": {
      "text/plain": [
       "[Document(metadata={'source': 'gutenberg_ebooks_modified.csv', 'row': 0}, page_content=': 0\\nindex: 0\\nEbook ID: 8600\\nAuthor: Zola, Émile, 1840-1902\\nTitle: L\\'Assommoir\\nCredits: John Bickers, Dagny and David Widger\\nSummary: \"L\\'Assommoir\" by Émile Zola is a novel written during the late 19th century, an era characterized by the realism movement in literature. The book explores the struggles of Gervaise, a laundress trying to build a life for herself and her children amidst the oppressive and often brutal conditions of working-class Paris. The story highlights themes of poverty, domestic strife, and the impact of alcoholism on individuals and families.  The opening of \"L\\'Assommoir\" presents Gervaise in a state of despair, anxiously awaiting the return of Lantier, her partner, who has been increasingly unfaithful and irresponsible. The narrative depicts her emotional turmoil as she reflects on their meager living conditions and the struggles of single motherhood. Gervaise\\'s observations of the bustling street below reveal the harsh realities faced by workers in the city, and through her interactions with Lantier, the text illustrates the complexities of love, frustration, and survival in a difficult social environment. The chapter sets the stage for the unfolding of Gervaise\\'s life, marked by hope yet overshadowed by the challenges of her circumstances and her relationships. (This is an automatically generated summary.)\\nLanguage: English\\nLibrary of Congress Classification: PQ: Language and Literatures: Romance literatures: French, Italian, Spanish, Portuguese\\nCategory: Text\\nEBook-No.: 8600\\nRelease Date: Apr 27, 2006\\nMost Recently Updated: Sep 15, 2022\\nCopyright Status: Public domain in the USA.\\nDownloads: 455 downloads in the last 30 days.\\nSubjects: Domestic fiction, Married women -- Fiction, Paris (France) -- Fiction, Working class women -- Fiction'),\n",
       " Document(metadata={'source': 'gutenberg_ebooks_modified.csv', 'row': 694}, page_content=': 694\\nindex: 722\\nEbook ID: 728\\nAuthor: Howells, William Dean, 1837-1920\\nTitle: Emile Zola\\nCredits: Produced by Anthony J. Adam.\\nSummary: \"Emile Zola\" by William Dean Howells is a biography written in the early 20th century. This book provides an insightful exploration of the life and work of Emile Zola, a pivotal figure in the literary realism movement. The narrative delves into Zola\\'s philosophy of literature, his influence on society, and his complex relationship with the themes of morality and realism.  In this work, Howells presents Zola as a dynamic and often paradoxical character—a man who strived for realism but was deeply influenced by romanticism. The biography discusses Zola’s literary contributions, particularly his epic approach to narratives that spotlight social issues such as poverty, labor strikes, and moral decay. It also highlights his courageous stance during the Dreyfus Affair, portraying Zola as a moral champion who fought against injustice. Howells effectively illustrates how Zola\\'s writings capture the essence of human experience while maintaining a commitment to truth and ethical representation, emphasizing the enduring impact Zola has had on both literature and social activism. (This is an automatically generated summary.)\\nLanguage: English\\nLibrary of Congress Classification: PQ: Language and Literatures: Romance literatures: French, Italian, Spanish, Portuguese\\nCategory: Text\\nEBook-No.: 728\\nRelease Date: Nov 1, 1996\\nMost Recently Updated: Jan 1, 2021\\nCopyright Status: Public domain in the USA.\\nDownloads: 86 downloads in the last 30 days.\\nSubjects: Zola, Émile, 1840-1902')]"
      ]
     },
     "execution_count": 14,
     "metadata": {},
     "output_type": "execute_result"
    }
   ],
   "source": [
    "result = await vectorstore.asimilarity_search(\n",
    "    'When did the author of \"L\\'assommoir\" die?',\n",
    "    search_type=\"similarity_score_threshold\",\n",
    "    search_kwargs={\"score_threshold\": 0.1},\n",
    "    k=2)\n",
    "\n",
    "result"
   ]
  },
  {
   "cell_type": "code",
   "execution_count": 54,
   "metadata": {},
   "outputs": [],
   "source": [
    "prompt_template = \"\"\"\n",
    "You are an assistant for question-answering tasks.\n",
    "Use the following pieces of retrieved context to answer the question.\n",
    "If you don't know the answer, just say that you don't know.\n",
    "\n",
    "Question: {question}\n",
    "\n",
    "Context: {context}\n",
    "\n",
    "Answer:\n",
    "\"\"\""
   ]
  },
  {
   "cell_type": "code",
   "execution_count": 61,
   "metadata": {},
   "outputs": [],
   "source": [
    "from langchain import hub\n",
    "from langchain_core.output_parsers import StrOutputParser\n",
    "from langchain_core.runnables import RunnablePassthrough\n",
    "from langchain.prompts import ChatPromptTemplate\n",
    "\n",
    "\n",
    "prompt = ChatPromptTemplate.from_template(prompt_template)\n",
    "\n",
    "# Pour faire une string contenant tous les documents retournés par le retriever, séparés par 2 retours à la ligne\n",
    "def format_docs(docs):\n",
    "    return \"\\n\\n\".join(doc.page_content for doc in docs)\n",
    "\n",
    "qa_chain = (\n",
    "    {\n",
    "        \"context\": retriever | format_docs,\n",
    "        \"question\": RunnablePassthrough(), # la question sera parsée comme le premier argument lors de l'invocation\n",
    "    }\n",
    "    | prompt\n",
    "    | llm\n",
    "    | StrOutputParser()\n",
    ")\n",
    "\n",
    "response = qa_chain.invoke('What are the main characters of \"L\\'Assommoir\"?')"
   ]
  },
  {
   "cell_type": "code",
   "execution_count": 60,
   "metadata": {},
   "outputs": [
    {
     "data": {
      "text/plain": [
       "'\"L\\'Assommoir\" by Émile Zola is a novel written during the late 19th century, an era characterized by the realism movement in literature. The book explores the struggles of Gervaise, a laundress trying to build a life for herself and her children amidst the oppressive and often brutal conditions of working-class Paris. The story highlights themes of poverty, domestic strife, and the impact of alcoholism on individuals and families.  The opening of \"L\\'Assommoir\" presents Gervaise in a state of despair, anxiously awaiting the return of Lantier, her partner, who has been increasingly unfaithful and irresponsible. The narrative depicts her emotional turmoil as she reflects on their meager living conditions and the struggles of single motherhood. Gervaise\\'s observations of the bustling street below reveal the harsh realities faced by workers in the city, and through her interactions with Lantier, the text illustrates the complexities of love, frustration, and survival in a difficult social environment. The chapter sets the stage for the unfolding of Gervaise\\'s life, marked by hope yet overshadowed by the challenges of her circumstances and her relationships. (This is an automatically generated summary.)'"
      ]
     },
     "execution_count": 60,
     "metadata": {},
     "output_type": "execute_result"
    }
   ],
   "source": [
    "def vector_search_tool(args):\n",
    "    result = vectorstore.similarity_search({\"query\": args['question']})\n",
    "    return result\n",
    "result\n",
    "    chain_result = vector_graph_chain.invoke({\n",
    "        \"query\": args['question']},\n",
    "    )\n",
    "    chain_result = \"do some thing to chain_re\"\n",
    "    return chain_result"
   ]
  },
  {
   "cell_type": "code",
   "execution_count": 62,
   "metadata": {},
   "outputs": [
    {
     "data": {
      "text/plain": [
       "'The main characters of \"L\\'Assommoir\" are Gervaise, a laundress, and Lantier, her partner.'"
      ]
     },
     "execution_count": 62,
     "metadata": {},
     "output_type": "execute_result"
    }
   ],
   "source": [
    "response"
   ]
  },
  {
   "cell_type": "code",
   "execution_count": null,
   "metadata": {},
   "outputs": [],
   "source": []
  }
 ],
 "metadata": {
  "kernelspec": {
   "display_name": "langchain_brief_env",
   "language": "python",
   "name": "python3"
  },
  "language_info": {
   "codemirror_mode": {
    "name": "ipython",
    "version": 3
   },
   "file_extension": ".py",
   "mimetype": "text/x-python",
   "name": "python",
   "nbconvert_exporter": "python",
   "pygments_lexer": "ipython3",
   "version": "3.10.8"
  }
 },
 "nbformat": 4,
 "nbformat_minor": 2
}
