{
 "cells": [
  {
   "cell_type": "markdown",
   "metadata": {},
   "source": [
    "# Ressources utiles (pour la certif en général)"
   ]
  },
  {
   "cell_type": "markdown",
   "metadata": {},
   "source": [
    "- [Différence Gunicorn (Flask) et Uvicorn (FastAPI), utile si on veut faire du multi threading pour scale son application](https://stackoverflow.com/questions/66362199/what-is-the-difference-between-uvicorn-and-gunicornuvicorn)\n",
    "- [Gestion de dépendances plus propre avec Poetry (dans le cadre de FastAPI)](https://tomasgis.com/microservices-with-fastapi-and-poetry-project-management-4c2c49f0fdda)\n",
    "- Mettre en place un système de veille (parler d'agrégateur, Feedly ou Feedbin, Google Alerts, AI Explained, reddit, medium, newletters...)\n",
    "- Faire attention à l'accessibilité (utiliser tailwind ou bootstrap)\n",
    "- Recommandations OWASP pour sécurité (au moins OAuth2)\n",
    "- Documentation avec mkdocs et github pages"
   ]
  },
  {
   "cell_type": "markdown",
   "metadata": {},
   "source": []
  }
 ],
 "metadata": {
  "language_info": {
   "name": "python"
  }
 },
 "nbformat": 4,
 "nbformat_minor": 2
}
