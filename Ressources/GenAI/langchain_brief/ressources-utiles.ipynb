{
 "cells": [
  {
   "cell_type": "markdown",
   "metadata": {},
   "source": [
    "# Ressources utiles (pour la certif en général)"
   ]
  },
  {
   "cell_type": "markdown",
   "metadata": {},
   "source": [
    "- [Différence Gunicorn (Flask) et Uvicorn (FastAPI), utile si on veut faire du multi threading pour scale son application](https://stackoverflow.com/questions/66362199/what-is-the-difference-between-uvicorn-and-gunicornuvicorn)\n",
    "- [Gestion de dépendances plus propre avec Poetry (dans le cadre de FastAPI)](https://tomasgis.com/microservices-with-fastapi-and-poetry-project-management-4c2c49f0fdda)"
   ]
  },
  {
   "cell_type": "markdown",
   "metadata": {},
   "source": []
  }
 ],
 "metadata": {
  "language_info": {
   "name": "python"
  }
 },
 "nbformat": 4,
 "nbformat_minor": 2
}
