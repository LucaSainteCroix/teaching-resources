{
 "cells": [
  {
   "cell_type": "code",
   "execution_count": 1,
   "metadata": {},
   "outputs": [],
   "source": [
    "import os\n",
    "__import__('pysqlite3')\n",
    "import sys\n",
    "sys.modules['sqlite3'] = sys.modules.pop('pysqlite3')\n",
    "\n",
    "from dotenv import load_dotenv, find_dotenv\n",
    "_ = load_dotenv(find_dotenv()) # read local .env file\n",
    "\n",
    "azure_openai_api_key = os.getenv(\"AZURE_OPENAI_API_KEY_4\")\n",
    "azure_openai_api_endpoint = os.getenv(\"AZURE_OPENAI_API_ENDPOINT_4\")\n",
    "deployment_name = os.getenv(\"AZURE_DEPLOYMENT_NAME_4\")"
   ]
  },
  {
   "cell_type": "code",
   "execution_count": 2,
   "metadata": {},
   "outputs": [],
   "source": [
    "from langchain.chains import RetrievalQA\n",
    "from langchain.chat_models import AzureChatOpenAI\n",
    "from langchain.document_loaders import CSVLoader\n",
    "from langchain_community.document_loaders.dataframe import DataFrameLoader\n",
    "# from langchain_chroma import Chroma\n",
    "from langchain_community.vectorstores import FAISS\n",
    "from langchain.indexes import VectorstoreIndexCreator\n",
    "from IPython.display import display, Markdown\n",
    "from langchain_openai import AzureOpenAIEmbeddings"
   ]
  },
  {
   "cell_type": "code",
   "execution_count": 3,
   "metadata": {},
   "outputs": [
    {
     "name": "stderr",
     "output_type": "stream",
     "text": [
      "/tmp/ipykernel_97158/1960024350.py:1: LangChainDeprecationWarning: The class `AzureChatOpenAI` was deprecated in LangChain 0.0.10 and will be removed in 1.0. An updated version of the class exists in the :class:`~langchain-openai package and should be used instead. To use it run `pip install -U :class:`~langchain-openai` and import as `from :class:`~langchain_openai import AzureChatOpenAI``.\n",
      "  llm = AzureChatOpenAI(api_key=azure_openai_api_key,\n"
     ]
    }
   ],
   "source": [
    "llm = AzureChatOpenAI(api_key=azure_openai_api_key,\n",
    "                        api_version=\"2023-12-01-preview\",\n",
    "                        azure_endpoint=azure_openai_api_endpoint,\n",
    "                        model=deployment_name,\n",
    "                        temperature=0\n",
    "                        )"
   ]
  },
  {
   "cell_type": "code",
   "execution_count": 33,
   "metadata": {},
   "outputs": [
    {
     "data": {
      "text/html": [
       "<div>\n",
       "<style scoped>\n",
       "    .dataframe tbody tr th:only-of-type {\n",
       "        vertical-align: middle;\n",
       "    }\n",
       "\n",
       "    .dataframe tbody tr th {\n",
       "        vertical-align: top;\n",
       "    }\n",
       "\n",
       "    .dataframe thead th {\n",
       "        text-align: right;\n",
       "    }\n",
       "</style>\n",
       "<table border=\"1\" class=\"dataframe\">\n",
       "  <thead>\n",
       "    <tr style=\"text-align: right;\">\n",
       "      <th></th>\n",
       "      <th>Ebook ID</th>\n",
       "      <th>Author</th>\n",
       "      <th>Title</th>\n",
       "      <th>Credits</th>\n",
       "      <th>Summary</th>\n",
       "      <th>Language</th>\n",
       "      <th>LoC Class</th>\n",
       "      <th>Subject</th>\n",
       "      <th>Subject_2</th>\n",
       "      <th>Subject_3</th>\n",
       "      <th>Subject_4</th>\n",
       "      <th>Category</th>\n",
       "      <th>EBook-No.</th>\n",
       "      <th>Release Date</th>\n",
       "      <th>Most Recently Updated</th>\n",
       "      <th>Copyright Status</th>\n",
       "      <th>Downloads</th>\n",
       "    </tr>\n",
       "  </thead>\n",
       "  <tbody>\n",
       "    <tr>\n",
       "      <th>0</th>\n",
       "      <td>8600</td>\n",
       "      <td>Zola, Émile, 1840-1902</td>\n",
       "      <td>L'Assommoir</td>\n",
       "      <td>John Bickers, Dagny and David Widger</td>\n",
       "      <td>\"L'Assommoir\" by Émile Zola is a novel written...</td>\n",
       "      <td>English</td>\n",
       "      <td>PQ: Language and Literatures: Romance literatu...</td>\n",
       "      <td>Domestic fiction</td>\n",
       "      <td>Married women -- Fiction</td>\n",
       "      <td>Paris (France) -- Fiction</td>\n",
       "      <td>Working class women -- Fiction</td>\n",
       "      <td>Text</td>\n",
       "      <td>8600</td>\n",
       "      <td>Apr 27, 2006</td>\n",
       "      <td>Sep 15, 2022</td>\n",
       "      <td>Public domain in the USA.</td>\n",
       "      <td>455 downloads in the last 30 days.</td>\n",
       "    </tr>\n",
       "  </tbody>\n",
       "</table>\n",
       "</div>"
      ],
      "text/plain": [
       "   Ebook ID                  Author        Title  \\\n",
       "0      8600  Zola, Émile, 1840-1902  L'Assommoir   \n",
       "\n",
       "                                Credits  \\\n",
       "0  John Bickers, Dagny and David Widger   \n",
       "\n",
       "                                             Summary Language  \\\n",
       "0  \"L'Assommoir\" by Émile Zola is a novel written...  English   \n",
       "\n",
       "                                           LoC Class           Subject  \\\n",
       "0  PQ: Language and Literatures: Romance literatu...  Domestic fiction   \n",
       "\n",
       "                  Subject_2                  Subject_3  \\\n",
       "0  Married women -- Fiction  Paris (France) -- Fiction   \n",
       "\n",
       "                        Subject_4 Category  EBook-No.  Release Date  \\\n",
       "0  Working class women -- Fiction     Text       8600  Apr 27, 2006   \n",
       "\n",
       "  Most Recently Updated           Copyright Status  \\\n",
       "0          Sep 15, 2022  Public domain in the USA.   \n",
       "\n",
       "                            Downloads  \n",
       "0  455 downloads in the last 30 days.  "
      ]
     },
     "execution_count": 33,
     "metadata": {},
     "output_type": "execute_result"
    }
   ],
   "source": [
    "import pandas as pd\n",
    "\n",
    "df = pd.read_csv('gutenberg_ebooks.csv')\n",
    "df.head(1)"
   ]
  },
  {
   "cell_type": "code",
   "execution_count": 34,
   "metadata": {},
   "outputs": [
    {
     "data": {
      "text/plain": [
       "19929"
      ]
     },
     "execution_count": 34,
     "metadata": {},
     "output_type": "execute_result"
    }
   ],
   "source": [
    "df['Subjects'] = df[['Subject', 'Subject_2', 'Subject_3', 'Subject_4']].apply(lambda x: ', '.join(x.dropna()), axis=1)\n",
    "df = df.drop(columns=['Subject', 'Subject_2', 'Subject_3', 'Subject_4'])\n",
    "df = df.rename(columns={'LoC Class': 'Library of Congress Classification'})\n",
    "len(df)"
   ]
  },
  {
   "cell_type": "code",
   "execution_count": 35,
   "metadata": {},
   "outputs": [
    {
     "data": {
      "text/plain": [
       "19110"
      ]
     },
     "execution_count": 35,
     "metadata": {},
     "output_type": "execute_result"
    }
   ],
   "source": [
    "df = df[~df['Summary'].isna()]\n",
    "len(df)"
   ]
  },
  {
   "cell_type": "code",
   "execution_count": 36,
   "metadata": {},
   "outputs": [
    {
     "data": {
      "text/plain": [
       "16585"
      ]
     },
     "execution_count": 36,
     "metadata": {},
     "output_type": "execute_result"
    }
   ],
   "source": [
    "df = df[df['Language']=='English']\n",
    "len(df)"
   ]
  },
  {
   "cell_type": "code",
   "execution_count": 37,
   "metadata": {},
   "outputs": [
    {
     "data": {
      "text/plain": [
       "15527"
      ]
     },
     "execution_count": 37,
     "metadata": {},
     "output_type": "execute_result"
    }
   ],
   "source": [
    "df = df[df['Author']!='Various']\n",
    "len(df)"
   ]
  },
  {
   "cell_type": "code",
   "execution_count": 38,
   "metadata": {},
   "outputs": [
    {
     "data": {
      "text/html": [
       "<div>\n",
       "<style scoped>\n",
       "    .dataframe tbody tr th:only-of-type {\n",
       "        vertical-align: middle;\n",
       "    }\n",
       "\n",
       "    .dataframe tbody tr th {\n",
       "        vertical-align: top;\n",
       "    }\n",
       "\n",
       "    .dataframe thead th {\n",
       "        text-align: right;\n",
       "    }\n",
       "</style>\n",
       "<table border=\"1\" class=\"dataframe\">\n",
       "  <thead>\n",
       "    <tr style=\"text-align: right;\">\n",
       "      <th></th>\n",
       "      <th>index</th>\n",
       "      <th>Ebook ID</th>\n",
       "      <th>Author</th>\n",
       "      <th>Title</th>\n",
       "      <th>Credits</th>\n",
       "      <th>Summary</th>\n",
       "      <th>Language</th>\n",
       "      <th>Library of Congress Classification</th>\n",
       "      <th>Category</th>\n",
       "      <th>EBook-No.</th>\n",
       "      <th>Release Date</th>\n",
       "      <th>Most Recently Updated</th>\n",
       "      <th>Copyright Status</th>\n",
       "      <th>Downloads</th>\n",
       "      <th>Subjects</th>\n",
       "    </tr>\n",
       "  </thead>\n",
       "  <tbody>\n",
       "    <tr>\n",
       "      <th>15526</th>\n",
       "      <td>19927</td>\n",
       "      <td>19999</td>\n",
       "      <td>Trowbridge, J. T. (John Townsend), 1827-1916</td>\n",
       "      <td>The Drummer Boy</td>\n",
       "      <td>Produced by David Edwards and the Online Distr...</td>\n",
       "      <td>\"The Drummer Boy\" by J. T. Trowbridge is a his...</td>\n",
       "      <td>English</td>\n",
       "      <td>PZ: Language and Literatures: Juvenile belles ...</td>\n",
       "      <td>Text</td>\n",
       "      <td>19999</td>\n",
       "      <td>Dec 3, 2006</td>\n",
       "      <td>NaN</td>\n",
       "      <td>Public domain in the USA.</td>\n",
       "      <td>76 downloads in the last 30 days.</td>\n",
       "      <td>United States -- History -- Civil War, 1861-18...</td>\n",
       "    </tr>\n",
       "  </tbody>\n",
       "</table>\n",
       "</div>"
      ],
      "text/plain": [
       "       index  Ebook ID                                        Author  \\\n",
       "15526  19927     19999  Trowbridge, J. T. (John Townsend), 1827-1916   \n",
       "\n",
       "                 Title                                            Credits  \\\n",
       "15526  The Drummer Boy  Produced by David Edwards and the Online Distr...   \n",
       "\n",
       "                                                 Summary Language  \\\n",
       "15526  \"The Drummer Boy\" by J. T. Trowbridge is a his...  English   \n",
       "\n",
       "                      Library of Congress Classification Category  EBook-No.  \\\n",
       "15526  PZ: Language and Literatures: Juvenile belles ...     Text      19999   \n",
       "\n",
       "      Release Date Most Recently Updated           Copyright Status  \\\n",
       "15526  Dec 3, 2006                   NaN  Public domain in the USA.   \n",
       "\n",
       "                               Downloads  \\\n",
       "15526  76 downloads in the last 30 days.   \n",
       "\n",
       "                                                Subjects  \n",
       "15526  United States -- History -- Civil War, 1861-18...  "
      ]
     },
     "execution_count": 38,
     "metadata": {},
     "output_type": "execute_result"
    }
   ],
   "source": [
    "df.reset_index(inplace=True)\n",
    "df.tail(1)"
   ]
  },
  {
   "cell_type": "code",
   "execution_count": 39,
   "metadata": {},
   "outputs": [],
   "source": [
    "df = df.iloc[:2000]\n",
    "df .to_csv('gutenberg_ebooks_modified.csv')"
   ]
  },
  {
   "cell_type": "code",
   "execution_count": 4,
   "metadata": {},
   "outputs": [
    {
     "name": "stdout",
     "output_type": "stream",
     "text": [
      "2000\n"
     ]
    },
    {
     "data": {
      "text/plain": [
       "Document(metadata={'source': 'gutenberg_ebooks_modified.csv', 'row': 0}, page_content=': 0\\nindex: 0\\nEbook ID: 8600\\nAuthor: Zola, Émile, 1840-1902\\nTitle: L\\'Assommoir\\nCredits: John Bickers, Dagny and David Widger\\nSummary: \"L\\'Assommoir\" by Émile Zola is a novel written during the late 19th century, an era characterized by the realism movement in literature. The book explores the struggles of Gervaise, a laundress trying to build a life for herself and her children amidst the oppressive and often brutal conditions of working-class Paris. The story highlights themes of poverty, domestic strife, and the impact of alcoholism on individuals and families.  The opening of \"L\\'Assommoir\" presents Gervaise in a state of despair, anxiously awaiting the return of Lantier, her partner, who has been increasingly unfaithful and irresponsible. The narrative depicts her emotional turmoil as she reflects on their meager living conditions and the struggles of single motherhood. Gervaise\\'s observations of the bustling street below reveal the harsh realities faced by workers in the city, and through her interactions with Lantier, the text illustrates the complexities of love, frustration, and survival in a difficult social environment. The chapter sets the stage for the unfolding of Gervaise\\'s life, marked by hope yet overshadowed by the challenges of her circumstances and her relationships. (This is an automatically generated summary.)\\nLanguage: English\\nLibrary of Congress Classification: PQ: Language and Literatures: Romance literatures: French, Italian, Spanish, Portuguese\\nCategory: Text\\nEBook-No.: 8600\\nRelease Date: Apr 27, 2006\\nMost Recently Updated: Sep 15, 2022\\nCopyright Status: Public domain in the USA.\\nDownloads: 455 downloads in the last 30 days.\\nSubjects: Domestic fiction, Married women -- Fiction, Paris (France) -- Fiction, Working class women -- Fiction')"
      ]
     },
     "execution_count": 4,
     "metadata": {},
     "output_type": "execute_result"
    }
   ],
   "source": [
    "loader = CSVLoader(file_path='gutenberg_ebooks_modified.csv', encoding='utf-8')\n",
    "documents = loader.load()\n",
    "print(len(documents))\n",
    "documents[0]"
   ]
  },
  {
   "cell_type": "code",
   "execution_count": 6,
   "metadata": {},
   "outputs": [
    {
     "data": {
      "text/plain": [
       "<langchain_community.vectorstores.faiss.FAISS at 0x7f41ed2c8f70>"
      ]
     },
     "execution_count": 6,
     "metadata": {},
     "output_type": "execute_result"
    }
   ],
   "source": [
    "embeddings = AzureOpenAIEmbeddings(openai_api_key=azure_openai_api_key,\n",
    "                                    azure_deployment='text-embedding-3-large',\n",
    "                                    azure_endpoint=azure_openai_api_endpoint,\n",
    "                                    openai_api_version=\"2023-05-15\",\n",
    "                                    chunk_size=512\n",
    ")\n",
    "\n",
    "\n",
    "vectorstore = FAISS.from_documents(documents, embeddings)\n",
    "vectorstore"
   ]
  },
  {
   "cell_type": "code",
   "execution_count": 48,
   "metadata": {},
   "outputs": [],
   "source": [
    "vectorstore.save_local('faiss_vector_store')"
   ]
  },
  {
   "cell_type": "code",
   "execution_count": 53,
   "metadata": {},
   "outputs": [
    {
     "data": {
      "text/plain": [
       "[Document(metadata={'source': 'gutenberg_ebooks_modified.csv', 'row': 0}, page_content=': 0\\nindex: 0\\nEbook ID: 8600\\nAuthor: Zola, Émile, 1840-1902\\nTitle: L\\'Assommoir\\nCredits: John Bickers, Dagny and David Widger\\nSummary: \"L\\'Assommoir\" by Émile Zola is a novel written during the late 19th century, an era characterized by the realism movement in literature. The book explores the struggles of Gervaise, a laundress trying to build a life for herself and her children amidst the oppressive and often brutal conditions of working-class Paris. The story highlights themes of poverty, domestic strife, and the impact of alcoholism on individuals and families.  The opening of \"L\\'Assommoir\" presents Gervaise in a state of despair, anxiously awaiting the return of Lantier, her partner, who has been increasingly unfaithful and irresponsible. The narrative depicts her emotional turmoil as she reflects on their meager living conditions and the struggles of single motherhood. Gervaise\\'s observations of the bustling street below reveal the harsh realities faced by workers in the city, and through her interactions with Lantier, the text illustrates the complexities of love, frustration, and survival in a difficult social environment. The chapter sets the stage for the unfolding of Gervaise\\'s life, marked by hope yet overshadowed by the challenges of her circumstances and her relationships. (This is an automatically generated summary.)\\nLanguage: English\\nLibrary of Congress Classification: PQ: Language and Literatures: Romance literatures: French, Italian, Spanish, Portuguese\\nCategory: Text\\nEBook-No.: 8600\\nRelease Date: Apr 27, 2006\\nMost Recently Updated: Sep 15, 2022\\nCopyright Status: Public domain in the USA.\\nDownloads: 455 downloads in the last 30 days.\\nSubjects: Domestic fiction, Married women -- Fiction, Paris (France) -- Fiction, Working class women -- Fiction'),\n",
       " Document(metadata={'source': 'gutenberg_ebooks_modified.csv', 'row': 694}, page_content=': 694\\nindex: 722\\nEbook ID: 728\\nAuthor: Howells, William Dean, 1837-1920\\nTitle: Emile Zola\\nCredits: Produced by Anthony J. Adam.\\nSummary: \"Emile Zola\" by William Dean Howells is a biography written in the early 20th century. This book provides an insightful exploration of the life and work of Emile Zola, a pivotal figure in the literary realism movement. The narrative delves into Zola\\'s philosophy of literature, his influence on society, and his complex relationship with the themes of morality and realism.  In this work, Howells presents Zola as a dynamic and often paradoxical character—a man who strived for realism but was deeply influenced by romanticism. The biography discusses Zola’s literary contributions, particularly his epic approach to narratives that spotlight social issues such as poverty, labor strikes, and moral decay. It also highlights his courageous stance during the Dreyfus Affair, portraying Zola as a moral champion who fought against injustice. Howells effectively illustrates how Zola\\'s writings capture the essence of human experience while maintaining a commitment to truth and ethical representation, emphasizing the enduring impact Zola has had on both literature and social activism. (This is an automatically generated summary.)\\nLanguage: English\\nLibrary of Congress Classification: PQ: Language and Literatures: Romance literatures: French, Italian, Spanish, Portuguese\\nCategory: Text\\nEBook-No.: 728\\nRelease Date: Nov 1, 1996\\nMost Recently Updated: Jan 1, 2021\\nCopyright Status: Public domain in the USA.\\nDownloads: 86 downloads in the last 30 days.\\nSubjects: Zola, Émile, 1840-1902')]"
      ]
     },
     "execution_count": 53,
     "metadata": {},
     "output_type": "execute_result"
    }
   ],
   "source": [
    "vectorstore = FAISS.load_local('faiss_vector_store', embeddings=embeddings, allow_dangerous_deserialization=True)\n",
    "retriever = vectorstore.as_retriever(search_type=\"similarity_score_threshold\", search_kwargs={\"score_threshold\": 0.1})\n",
    "docs = retriever.invoke('When did the author of \"L\\'assommoir\" die?')\n",
    "docs"
   ]
  },
  {
   "cell_type": "code",
   "execution_count": 54,
   "metadata": {},
   "outputs": [],
   "source": [
    "prompt_template = \"\"\"\n",
    "You are an assistant for question-answering tasks.\n",
    "Use the following pieces of retrieved context to answer the question.\n",
    "If you don't know the answer, just say that you don't know.\n",
    "\n",
    "Question: {question}\n",
    "\n",
    "Context: {context}\n",
    "\n",
    "Answer:\n",
    "\"\"\""
   ]
  },
  {
   "cell_type": "code",
   "execution_count": 61,
   "metadata": {},
   "outputs": [],
   "source": [
    "from langchain import hub\n",
    "from langchain_core.output_parsers import StrOutputParser\n",
    "from langchain_core.runnables import RunnablePassthrough\n",
    "from langchain.prompts import ChatPromptTemplate\n",
    "\n",
    "\n",
    "prompt = ChatPromptTemplate.from_template(prompt_template)\n",
    "\n",
    "# Pour faire une string contenant tous les documents retournés par le retriever, séparés par 2 retours à la ligne\n",
    "def format_docs(docs):\n",
    "    return \"\\n\\n\".join(doc.page_content for doc in docs)\n",
    "\n",
    "qa_chain = (\n",
    "    {\n",
    "        \"context\": retriever | format_docs,\n",
    "        \"question\": RunnablePassthrough(), # la question sera parsée comme le premier argument lors de l'invocation\n",
    "    }\n",
    "    | prompt\n",
    "    | llm\n",
    "    | StrOutputParser()\n",
    ")\n",
    "\n",
    "response = qa_chain.invoke('What are the main characters of \"L\\'Assommoir\"?')"
   ]
  },
  {
   "cell_type": "code",
   "execution_count": 60,
   "metadata": {},
   "outputs": [
    {
     "data": {
      "text/plain": [
       "'\"L\\'Assommoir\" by Émile Zola is a novel written during the late 19th century, an era characterized by the realism movement in literature. The book explores the struggles of Gervaise, a laundress trying to build a life for herself and her children amidst the oppressive and often brutal conditions of working-class Paris. The story highlights themes of poverty, domestic strife, and the impact of alcoholism on individuals and families.  The opening of \"L\\'Assommoir\" presents Gervaise in a state of despair, anxiously awaiting the return of Lantier, her partner, who has been increasingly unfaithful and irresponsible. The narrative depicts her emotional turmoil as she reflects on their meager living conditions and the struggles of single motherhood. Gervaise\\'s observations of the bustling street below reveal the harsh realities faced by workers in the city, and through her interactions with Lantier, the text illustrates the complexities of love, frustration, and survival in a difficult social environment. The chapter sets the stage for the unfolding of Gervaise\\'s life, marked by hope yet overshadowed by the challenges of her circumstances and her relationships. (This is an automatically generated summary.)'"
      ]
     },
     "execution_count": 60,
     "metadata": {},
     "output_type": "execute_result"
    }
   ],
   "source": [
    "df.iloc[0]['Summary']"
   ]
  },
  {
   "cell_type": "code",
   "execution_count": null,
   "metadata": {},
   "outputs": [],
   "source": [
    "df.iloc[0]"
   ]
  },
  {
   "cell_type": "code",
   "execution_count": 62,
   "metadata": {},
   "outputs": [
    {
     "data": {
      "text/plain": [
       "'The main characters of \"L\\'Assommoir\" are Gervaise, a laundress, and Lantier, her partner.'"
      ]
     },
     "execution_count": 62,
     "metadata": {},
     "output_type": "execute_result"
    }
   ],
   "source": [
    "response"
   ]
  },
  {
   "cell_type": "code",
   "execution_count": null,
   "metadata": {},
   "outputs": [],
   "source": []
  }
 ],
 "metadata": {
  "kernelspec": {
   "display_name": "langchain_brief_env",
   "language": "python",
   "name": "python3"
  },
  "language_info": {
   "codemirror_mode": {
    "name": "ipython",
    "version": 3
   },
   "file_extension": ".py",
   "mimetype": "text/x-python",
   "name": "python",
   "nbconvert_exporter": "python",
   "pygments_lexer": "ipython3",
   "version": "3.10.8"
  }
 },
 "nbformat": 4,
 "nbformat_minor": 2
}
