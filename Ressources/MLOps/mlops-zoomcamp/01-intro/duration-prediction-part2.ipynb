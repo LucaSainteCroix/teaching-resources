{
 "cells": [
  {
   "cell_type": "markdown",
   "id": "e2c204ee",
   "metadata": {},
   "source": [
    "Lien d'explication de ce notebook:\n",
    "\n",
    "https://www.youtube.com/watch?v=iRunifGSHFc&list=PL3MmuxUbc_hIUISrluw_A7wDSmfOhErJK&index=5 "
   ]
  },
  {
   "cell_type": "code",
   "execution_count": 1,
   "id": "41062d8a",
   "metadata": {},
   "outputs": [],
   "source": [
    "import pandas as pd"
   ]
  },
  {
   "cell_type": "code",
   "execution_count": 2,
   "id": "c984c564",
   "metadata": {},
   "outputs": [],
   "source": [
    "import pickle"
   ]
  },
  {
   "cell_type": "code",
   "execution_count": 3,
   "id": "8b135c2b",
   "metadata": {},
   "outputs": [],
   "source": [
    "from sklearn.feature_extraction import DictVectorizer\n",
    "from sklearn.linear_model import LinearRegression\n",
    "from sklearn.linear_model import Lasso\n",
    "from sklearn.linear_model import Ridge\n",
    "\n",
    "from sklearn.metrics import root_mean_squared_error"
   ]
  },
  {
   "cell_type": "code",
   "execution_count": 4,
   "id": "66ed1189",
   "metadata": {},
   "outputs": [],
   "source": [
    "import mlflow\n",
    "\n",
    "mlflow.set_tracking_uri(\"sqlite:///mlflow.db\")"
   ]
  },
  {
   "cell_type": "code",
   "execution_count": 5,
   "id": "4315b3a4",
   "metadata": {},
   "outputs": [
    {
     "data": {
      "text/plain": [
       "<Experiment: artifact_location='/home/luca/teaching/simplon/IA_2024/teaching-resources/Ressources/MLOps/mlops-zoomcamp/01-intro/mlruns/1', creation_time=1730728484294, experiment_id='1', last_update_time=1730728484294, lifecycle_stage='active', name='nyc-taxi-experiment', tags={}>"
      ]
     },
     "execution_count": 5,
     "metadata": {},
     "output_type": "execute_result"
    }
   ],
   "source": [
    "mlflow.set_experiment(\"nyc-taxi-experiment\")"
   ]
  },
  {
   "cell_type": "code",
   "execution_count": 6,
   "id": "70fe9566",
   "metadata": {},
   "outputs": [],
   "source": [
    "def read_dataframe(filename):\n",
    "\n",
    "    df = pd.read_csv(filename)\n",
    "    df['lpep_pickup_datetime'] = pd.to_datetime(df.lpep_pickup_datetime)\n",
    "    df['lpep_dropoff_datetime'] = pd.to_datetime(df.lpep_dropoff_datetime)\n",
    "\n",
    "    df['duration'] = df.lpep_dropoff_datetime - df.lpep_pickup_datetime\n",
    "    df.duration = df.duration.apply(lambda td: td.total_seconds() / 60)\n",
    "\n",
    "    df = df[(df.duration >= 1) & (df.duration <= 60)]\n",
    "\n",
    "    categorical = ['PULocationID', 'DOLocationID']\n",
    "    df[categorical] = df[categorical].astype(str)\n",
    "\n",
    "    return df"
   ]
  },
  {
   "cell_type": "markdown",
   "id": "b078aa43",
   "metadata": {},
   "source": [
    "## Evaluation sur un jeu de validation"
   ]
  },
  {
   "cell_type": "code",
   "execution_count": 7,
   "id": "5f1454fa",
   "metadata": {},
   "outputs": [
    {
     "name": "stderr",
     "output_type": "stream",
     "text": [
      "/tmp/ipykernel_4317/1721828809.py:3: DtypeWarning: Columns (3) have mixed types. Specify dtype option on import or set low_memory=False.\n",
      "  df = pd.read_csv(filename)\n"
     ]
    }
   ],
   "source": [
    "df_train = read_dataframe('../data/green_tripdata_2021-01.csv')\n",
    "df_val = read_dataframe('../data/green_tripdata_2021-02.csv')"
   ]
  },
  {
   "cell_type": "code",
   "execution_count": 8,
   "id": "f6f2f0eb",
   "metadata": {},
   "outputs": [
    {
     "data": {
      "text/plain": [
       "(73908, 61921)"
      ]
     },
     "execution_count": 8,
     "metadata": {},
     "output_type": "execute_result"
    }
   ],
   "source": [
    "len(df_train), len(df_val)"
   ]
  },
  {
   "cell_type": "code",
   "execution_count": 9,
   "id": "951d51ef",
   "metadata": {},
   "outputs": [],
   "source": [
    "df_train['PU_DO'] = df_train['PULocationID'] + '_' + df_train['DOLocationID']\n",
    "df_val['PU_DO'] = df_val['PULocationID'] + '_' + df_val['DOLocationID']"
   ]
  },
  {
   "cell_type": "code",
   "execution_count": 10,
   "id": "c5cbfc25",
   "metadata": {},
   "outputs": [],
   "source": [
    "categorical = ['PU_DO'] #'PULocationID', 'DOLocationID']\n",
    "numerical = ['trip_distance']\n",
    "\n",
    "dv = DictVectorizer()\n",
    "\n",
    "train_dicts = df_train[categorical + numerical].to_dict(orient='records')\n",
    "X_train = dv.fit_transform(train_dicts)\n",
    "\n",
    "val_dicts = df_val[categorical + numerical].to_dict(orient='records')\n",
    "X_val = dv.transform(val_dicts)"
   ]
  },
  {
   "cell_type": "code",
   "execution_count": 11,
   "id": "1e9fb68b",
   "metadata": {},
   "outputs": [],
   "source": [
    "target = 'duration'\n",
    "y_train = df_train[target].values\n",
    "y_val = df_val[target].values"
   ]
  },
  {
   "cell_type": "code",
   "execution_count": 12,
   "id": "429e2394",
   "metadata": {},
   "outputs": [
    {
     "data": {
      "text/plain": [
       "np.float64(7.75871521021275)"
      ]
     },
     "execution_count": 12,
     "metadata": {},
     "output_type": "execute_result"
    }
   ],
   "source": [
    "lr = LinearRegression()\n",
    "lr.fit(X_train, y_train)\n",
    "\n",
    "y_pred = lr.predict(X_val)\n",
    "\n",
    "root_mean_squared_error(y_val, y_pred)"
   ]
  },
  {
   "cell_type": "code",
   "execution_count": 13,
   "id": "22bf6f8b",
   "metadata": {},
   "outputs": [],
   "source": [
    "# with open('models/lin_reg.bin', 'wb+') as f_out:\n",
    "#     pickle.dump((dv, lr), f_out)"
   ]
  },
  {
   "cell_type": "markdown",
   "id": "4cea896a",
   "metadata": {},
   "source": [
    "## With MLFlow"
   ]
  },
  {
   "cell_type": "code",
   "execution_count": 14,
   "id": "a1bb85e3",
   "metadata": {},
   "outputs": [],
   "source": [
    "# with mlflow.start_run():\n",
    "\n",
    "#     mlflow.set_tag('model', 'lasso-regression')\n",
    "#     mlflow.set_tag('developer', 'luca')\n",
    "#     mlflow.log_param('train-data-path', '../data/green_tripdata_2021-01.csv')\n",
    "#     mlflow.log_param('valid-data-path', '../data/green_tripdata_2021-02.csv')\n",
    "\n",
    "#     alpha = 0.01\n",
    "#     mlflow.log_param('alpha', alpha)\n",
    "\n",
    "#     lr = Lasso(alpha)\n",
    "\n",
    "#     lr.fit(X_train, y_train)\n",
    "\n",
    "#     y_pred = lr.predict(X_val)\n",
    "\n",
    "#     rmse = root_mean_squared_error(y_val, y_pred)\n",
    "\n",
    "#     mlflow.log_metric('val-rmse', rmse)\n",
    "\n",
    "#     with open('models/lasso_reg.bin', 'wb+') as f_out:\n",
    "#         pickle.dump((dv, lr), f_out)\n",
    "\n",
    "#     mlflow.log_artifact(local_path='models/lasso_reg.bin', artifact_path=\"models_pickle\")\n"
   ]
  },
  {
   "cell_type": "markdown",
   "id": "b78c0f69",
   "metadata": {},
   "source": [
    "## With Parameter Tuning"
   ]
  },
  {
   "cell_type": "code",
   "execution_count": 15,
   "id": "fd686963",
   "metadata": {},
   "outputs": [],
   "source": [
    "import xgboost as xgb\n",
    "from hyperopt import fmin, tpe, hp, STATUS_OK, Trials\n",
    "from hyperopt.pyll import scope"
   ]
  },
  {
   "cell_type": "code",
   "execution_count": 16,
   "id": "8ac6f3dd",
   "metadata": {},
   "outputs": [],
   "source": [
    "train = xgb.DMatrix(X_train, label=y_train)\n",
    "valid = xgb.DMatrix(X_val, label=y_val)"
   ]
  },
  {
   "cell_type": "code",
   "execution_count": 17,
   "id": "70e214c5",
   "metadata": {},
   "outputs": [],
   "source": [
    "from sklearn.metrics import mean_squared_error\n",
    "\n",
    "\n",
    "# def objective(params):\n",
    "#     with mlflow.start_run():\n",
    "#         mlflow.set_tag('model', 'xgboost')\n",
    "#         mlflow.log_params(params)\n",
    "#         booster = xgb.train(\n",
    "#             params=params,\n",
    "#             dtrain=train,\n",
    "#             num_boost_round=20,\n",
    "#             evals=[(valid, 'validation')],\n",
    "#             early_stopping_rounds=10\n",
    "#         )\n",
    "#         y_pred = booster.predict(valid)\n",
    "#         rmse = mean_squared_error(y_val, y_pred, squared=False)\n",
    "#         mlflow.log_metric(\"rmse\", rmse)\n",
    "\n",
    "\n",
    "#     return {'loss': rmse, 'status': STATUS_OK}"
   ]
  },
  {
   "cell_type": "code",
   "execution_count": 18,
   "id": "470a31fc",
   "metadata": {},
   "outputs": [],
   "source": [
    "# search_space = {\n",
    "#     'max_depth': scope.int(hp.quniform('max_depth', 4, 100, 1)),\n",
    "#     'learning_rate': hp.loguniform('learning_rate', -3, 0),\n",
    "#     'reg_alpha': hp.loguniform('reg_alpha', -5, -1),\n",
    "#     'reg_lambda': hp.loguniform('reg_lambda', -6, -1),\n",
    "#     'min_child_weight': hp.loguniform('min_child_weight', -1, 3),\n",
    "#     'objective': 'reg:linear',\n",
    "#     'seed': 42\n",
    "# }\n",
    "\n",
    "\n",
    "# best_result = fmin(\n",
    "#     fn=objective,\n",
    "#     space=search_space,\n",
    "#     algo=tpe.suggest,\n",
    "#     max_evals=10,\n",
    "#     trials=Trials()\n",
    "# )"
   ]
  },
  {
   "cell_type": "markdown",
   "id": "20c43016",
   "metadata": {},
   "source": [
    "## With Autolog"
   ]
  },
  {
   "cell_type": "code",
   "execution_count": null,
   "metadata": {},
   "outputs": [],
   "source": [
    "best_params = {\n",
    "    'learning_rate': 0.09585355369315604,\n",
    "    'max_depth': 30,\n",
    "    'min_child_weight': 1.060597050922164,\n",
    "    'objective': 'reg:squarederror',\n",
    "    'reg_alpha': 0.018060244040060163,\n",
    "    'reg_lambda': 0.011658731377413597,\n",
    "    'seed': 42\n",
    "}\n",
    "\n",
    "# does not work for some reason (likely a compatibility issue between mlflow and xgboost)\n",
    "# mlflow.xgboost.autolog(extra_tags={'model': 'xgboost'})\n",
    "\n",
    "# with mlflow.start_run():\n",
    "#     booster = xgb.train(\n",
    "#         params=best_params,\n",
    "#         dtrain=train,\n",
    "#         num_boost_round=20,\n",
    "#         evals=[(valid, 'validation')],\n",
    "#         early_stopping_rounds=10\n",
    "#     )\n",
    "#     mlflow.xgboost.autolog(disable=True)\n",
    "\n",
    "#     X_val_xgb = xgb.DMatrix(X_val)\n",
    "#     y_pred = xgb.predict(X_val_xgb)\n",
    "#     rmse = mean_squared_error(y_val, y_pred, squared=False)\n",
    "#     mlflow.log_metric(\"validation-rmse\", rmse)\n",
    "\n",
    "#     with open(\"models/preprocessor.b\", \"wb\") as f_out:\n",
    "#         pickle.dump(dv, f_out)\n",
    "#     mlflow.log_artifact(\"models/preprocessor.b\", artifact_path=\"preprocessor\")\n"
   ]
  },
  {
   "cell_type": "code",
   "execution_count": null,
   "id": "1c02499a",
   "metadata": {},
   "outputs": [
    {
     "name": "stderr",
     "output_type": "stream",
     "text": [
      "2024/11/04 19:38:36 WARNING mlflow.sklearn: Failed to log training dataset information to MLflow Tracking. Reason: 'numpy.ndarray' object has no attribute 'toarray'\n",
      "/home/luca/.pyenv/versions/3.10.6/envs/mlops_env/lib/python3.10/site-packages/sklearn/metrics/_regression.py:492: FutureWarning: 'squared' is deprecated in version 1.4 and will be removed in 1.6. To calculate the root mean squared error, use the function'root_mean_squared_error'.\n",
      "  warnings.warn(\n"
     ]
    }
   ],
   "source": [
    "mlflow.sklearn.autolog()\n",
    "with mlflow.start_run():\n",
    "    mlflow.log_param(\"train-data-path\", \"./data/green_tripdata_2021-01.csv\")\n",
    "    mlflow.log_param(\"valid-data-path\", \"./data/green_tripdata_2021-02.csv\")\n",
    "    mlflow.log_artifact(\"models/preprocessor.b\", artifact_path=\"preprocessor\")\n",
    "\n",
    "    mlmodel = LinearRegression()\n",
    "    mlmodel.fit(X_train, y_train)\n",
    "\n",
    "    mlflow.sklearn.autolog(disable=True)\n",
    "\n",
    "    y_pred = mlmodel.predict(X_val)\n",
    "    rmse = mean_squared_error(y_val, y_pred, squared=False)\n",
    "    mlflow.log_metric(\"validation-rmse\", rmse)\n"
   ]
  },
  {
   "cell_type": "code",
   "execution_count": 21,
   "id": "4ae7d2b8",
   "metadata": {},
   "outputs": [
    {
     "name": "stderr",
     "output_type": "stream",
     "text": [
      "2024/11/04 19:41:51 WARNING mlflow.sklearn: Failed to log training dataset information to MLflow Tracking. Reason: 'numpy.ndarray' object has no attribute 'toarray'\n",
      "/home/luca/.pyenv/versions/3.10.6/envs/mlops_env/lib/python3.10/site-packages/sklearn/svm/_base.py:1235: ConvergenceWarning: Liblinear failed to converge, increase the number of iterations.\n",
      "  warnings.warn(\n",
      "/home/luca/.pyenv/versions/3.10.6/envs/mlops_env/lib/python3.10/site-packages/sklearn/metrics/_regression.py:492: FutureWarning: 'squared' is deprecated in version 1.4 and will be removed in 1.6. To calculate the root mean squared error, use the function'root_mean_squared_error'.\n",
      "  warnings.warn(\n"
     ]
    }
   ],
   "source": [
    "from sklearn.svm import LinearSVR\n",
    "\n",
    "mlflow.sklearn.autolog()\n",
    "with mlflow.start_run():\n",
    "    mlflow.log_param(\"train-data-path\", \"./data/green_tripdata_2021-01.csv\")\n",
    "    mlflow.log_param(\"valid-data-path\", \"./data/green_tripdata_2021-02.csv\")\n",
    "    mlflow.log_artifact(\"models/preprocessor.b\", artifact_path=\"preprocessor\")\n",
    "\n",
    "    mlmodel = LinearSVR()\n",
    "    mlmodel.fit(X_train, y_train)\n",
    "\n",
    "    mlflow.sklearn.autolog(disable=True)\n",
    "\n",
    "    y_pred = mlmodel.predict(X_val)\n",
    "    rmse = mean_squared_error(y_val, y_pred, squared=False)\n",
    "    mlflow.log_metric(\"validation-rmse\", rmse)\n"
   ]
  },
  {
   "cell_type": "code",
   "execution_count": 19,
   "id": "03dc5dd0",
   "metadata": {},
   "outputs": [
    {
     "name": "stderr",
     "output_type": "stream",
     "text": [
      "2024/11/04 20:03:08 WARNING mlflow.sklearn: Failed to log training dataset information to MLflow Tracking. Reason: 'numpy.ndarray' object has no attribute 'toarray'\n",
      "/home/luca/.pyenv/versions/3.10.6/envs/mlops_env/lib/python3.10/site-packages/sklearn/metrics/_regression.py:492: FutureWarning: 'squared' is deprecated in version 1.4 and will be removed in 1.6. To calculate the root mean squared error, use the function'root_mean_squared_error'.\n",
      "  warnings.warn(\n"
     ]
    }
   ],
   "source": [
    "from sklearn.linear_model import Ridge\n",
    "\n",
    "mlflow.sklearn.autolog()\n",
    "with mlflow.start_run():\n",
    "    mlflow.log_param(\"train-data-path\", \"./data/green_tripdata_2021-01.csv\")\n",
    "    mlflow.log_param(\"valid-data-path\", \"./data/green_tripdata_2021-02.csv\")\n",
    "    mlflow.log_artifact(\"models/preprocessor.b\", artifact_path=\"preprocessor\")\n",
    "\n",
    "    mlmodel = Ridge(alpha=0.1)\n",
    "    mlmodel.fit(X_train, y_train)\n",
    "\n",
    "    mlflow.sklearn.autolog(disable=True)\n",
    "\n",
    "    y_pred = mlmodel.predict(X_val)\n",
    "    rmse = mean_squared_error(y_val, y_pred, squared=False)\n",
    "    mlflow.log_metric(\"validation-rmse\", rmse)\n"
   ]
  },
  {
   "cell_type": "code",
   "execution_count": null,
   "id": "4e3bbcad",
   "metadata": {},
   "outputs": [],
   "source": []
  }
 ],
 "metadata": {
  "kernelspec": {
   "display_name": "mlops_env",
   "language": "python",
   "name": "python3"
  },
  "language_info": {
   "codemirror_mode": {
    "name": "ipython",
    "version": 3
   },
   "file_extension": ".py",
   "mimetype": "text/x-python",
   "name": "python",
   "nbconvert_exporter": "python",
   "pygments_lexer": "ipython3",
   "version": "3.10.6"
  }
 },
 "nbformat": 4,
 "nbformat_minor": 5
}
