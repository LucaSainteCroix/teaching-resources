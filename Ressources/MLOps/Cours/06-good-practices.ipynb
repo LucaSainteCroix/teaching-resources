{
 "cells": [
  {
   "cell_type": "markdown",
   "metadata": {},
   "source": [
    "# 6. Best Practices\n"
   ]
  },
  {
   "cell_type": "markdown",
   "metadata": {},
   "source": [
    "## Part A\n",
    "\n",
    "(Part B below)\n"
   ]
  },
  {
   "cell_type": "markdown",
   "metadata": {},
   "source": [
    "### 6.1 Testing Python code with pytest\n",
    "\n",
    "<a href=\"https://www.youtube.com/watch?v=CJp1eFQP5nk&list=PL3MmuxUbc_hIUISrluw_A7wDSmfOhErJK\">\n",
    "  <img src=\"images/thumbnail-6-1.jpg\">\n",
    "</a>"
   ]
  },
  {
   "cell_type": "markdown",
   "metadata": {},
   "source": [
    "### Your turn:\n",
    "\n",
    "- Start from the `predict.py` script from `04-deployment/web-service`\n",
    "- Get familiar with Pytest on VS Code\n",
    "- Identify which functionalities could be unit tested\n",
    "- Write 2-3 unit tests and refactor `predict.py` accordingly\n",
    "- Run tests"
   ]
  },
  {
   "cell_type": "markdown",
   "metadata": {
    "vscode": {
     "languageId": "plaintext"
    }
   },
   "source": [
    "### 6.2 Integration tests with docker-compose\n",
    "\n",
    "<a href=\"https://www.youtube.com/watch?v=lBX0Gl7Z1ck&list=PL3MmuxUbc_hIUISrluw_A7wDSmfOhErJK\">\n",
    "  <img src=\"images/thumbnail-6-2.jpg\">\n",
    "</a>"
   ]
  },
  {
   "cell_type": "markdown",
   "metadata": {},
   "source": [
    "### Your turn:\n",
    "\n",
    "- Write an integration test similar to the one in the video, without using cloud services\n",
    "- The test should call your web-service endpoint deployed on a docker container\n",
    "- You can use only docker first but you should use docker-compose for the final result\n",
    "- Use a script to run docker compose, run the tests, display logs if there's an error, then shut down docker compose\n",
    "\n",
    "To go further:\n",
    "- Watch the next video to get an idea of how to mock cloud resources for test purposes\n",
    "- Use localstack or another tool to mock Azure Blob Storage\n",
    "- Test the integration of Azure Blob Storage, and test upload and/or download of blobs with it"
   ]
  },
  {
   "cell_type": "markdown",
   "metadata": {},
   "source": [
    "### 6.3 Testing cloud services with LocalStack\n",
    "\n",
    "<a href=\"https://www.youtube.com/watch?v=9yMO86SYvuI&list=PL3MmuxUbc_hIUISrluw_A7wDSmfOhErJK\">\n",
    "  <img src=\"images/thumbnail-6-3.jpg\">\n",
    "</a>"
   ]
  },
  {
   "cell_type": "markdown",
   "metadata": {},
   "source": [
    "### 6.4 Code quality: linting and formatting\n",
    "\n",
    "<a href=\"https://www.youtube.com/watch?v=uImvWE-iSDQ&list=PL3MmuxUbc_hIUISrluw_A7wDSmfOhErJK\">\n",
    "  <img src=\"images/thumbnail-6-4.jpg\">\n",
    "</a>"
   ]
  },
  {
   "cell_type": "markdown",
   "metadata": {},
   "source": [
    "### 6.5 Git pre-commit hooks\n",
    "\n",
    "<a href=\"https://www.youtube.com/watch?v=lmMZ7Axk2T8&list=PL3MmuxUbc_hIUISrluw_A7wDSmfOhErJK\">\n",
    "  <img src=\"images/thumbnail-6-5.jpg\">\n",
    "</a>"
   ]
  },
  {
   "cell_type": "markdown",
   "metadata": {},
   "source": [
    "### 6.6 Makefiles and make\n",
    "\n",
    "<a href=\"https://www.youtube.com/watch?v=F6DZdvbRZQQ&list=PL3MmuxUbc_hIUISrluw_A7wDSmfOhErJK\">\n",
    "  <img src=\"images/thumbnail-6-6.jpg\">\n",
    "</a>"
   ]
  },
  {
   "cell_type": "markdown",
   "metadata": {},
   "source": [
    "## Part B"
   ]
  },
  {
   "cell_type": "markdown",
   "metadata": {},
   "source": [
    "### Infrastructure-as-Code\n",
    "with Terraform\n",
    "\n",
    "![image](images/AWS-stream-pipeline.png)"
   ]
  },
  {
   "cell_type": "markdown",
   "metadata": {},
   "source": [
    "#### Summary\n",
    "* Setting up a stream-based pipeline infrastructure in AWS, using Terraform\n",
    "* Project infrastructure modules (AWS): Kinesis Streams (Producer & Consumer), Lambda (Serving API), S3 Bucket (Model artifacts), ECR (Image Registry)\n",
    "\n",
    "Further info here:\n",
    "* [Concepts of IaC and Terraform](docs.md#concepts-of-iac-and-terraform)\n",
    "* [Setup and Execution](https://github.com/DataTalksClub/mlops-zoomcamp/tree/main/06-best-practices/code#iac)"
   ]
  },
  {
   "cell_type": "markdown",
   "metadata": {},
   "source": [
    "#### 6B.1: Terraform - Introduction\n",
    "\n",
    "https://www.youtube.com/watch?v=zRcLgT7Qnio&list=PL3MmuxUbc_hIUISrluw_A7wDSmfOhErJK&index=48\n",
    "\n",
    "* Introduction\n",
    "* Setup & Pre-Reqs\n",
    "* Concepts of Terraform and IaC (reference material from previous courses)"
   ]
  },
  {
   "cell_type": "markdown",
   "metadata": {},
   "source": [
    "#### 6B.2: Terraform - Modules and Outputs variables\n",
    "\n",
    "https://www.youtube.com/watch?v=-6scXrFcPNk&list=PL3MmuxUbc_hIUISrluw_A7wDSmfOhErJK&index=49\n",
    "\n",
    "* What are they?\n",
    "* Creating a Kinesis module"
   ]
  },
  {
   "cell_type": "markdown",
   "metadata": {},
   "source": [
    "#### 6B.3: Build an e2e workflow for Ride Predictions\n",
    "\n",
    "https://www.youtube.com/watch?v=JVydd1K6R7M&list=PL3MmuxUbc_hIUISrluw_A7wDSmfOhErJK&index=50\n",
    "\n",
    "* TF resources for ECR, Lambda, S3"
   ]
  },
  {
   "cell_type": "markdown",
   "metadata": {},
   "source": [
    "#### 6B.4: Test the pipeline e2e\n",
    "\n",
    "https://www.youtube.com/watch?v=YWao0rnqVoI&list=PL3MmuxUbc_hIUISrluw_A7wDSmfOhErJK&index=51\n",
    "\n",
    "* Demo: apply TF to our use-case, manually deploy data dependencies & test\n",
    "* Recap: IaC, Terraform, next steps\n",
    "\n",
    "Additional material on understanding Terraform concepts here: [Reference Material](docs.md#concepts-of-iac-and-terraform)"
   ]
  },
  {
   "cell_type": "markdown",
   "metadata": {},
   "source": [
    "### CI/CD\n",
    "with GitHub Actions\n",
    "\n",
    "![image](ci_cd_zoomcamp.png)\n"
   ]
  },
  {
   "cell_type": "markdown",
   "metadata": {},
   "source": [
    "#### Summary\n",
    "\n",
    "* Automate a complete CI/CD pipeline using GitHub Actions to automatically trigger jobs\n",
    "to build, test, and deploy our service to Lambda for every new commit/code change to our repository.\n",
    "* The goal of our CI/CD pipeline is to execute tests, build and push container image to a registry,\n",
    "and update our lambda service for every commit to the GitHub repository.\n",
    "\n",
    "Further info here: [Concepts of CI/CD and GitHub Actions](docs.md#concepts-of-ci-cd-and-github-actions)"
   ]
  },
  {
   "cell_type": "markdown",
   "metadata": {},
   "source": [
    "#### 6B.5: CI/CD - Introduction\n",
    "\n",
    "https://www.youtube.com/watch?v=OMwwZ0Z_cdk&list=PL3MmuxUbc_hIUISrluw_A7wDSmfOhErJK&index=52\n",
    "\n",
    "* Architecture (Ride Predictions)\n",
    "* What are GitHub Workflows?"
   ]
  },
  {
   "cell_type": "markdown",
   "metadata": {},
   "source": [
    "#### 6B.6: Continuous Integration\n",
    "\n",
    "https://www.youtube.com/watch?v=xkTWF9c33mU&list=PL3MmuxUbc_hIUISrluw_A7wDSmfOhErJK&index=53\n",
    "\n",
    "* `ci-tests.yml`\n",
    "    * Automate sections from tests: Env setup, Unit test, Integration test, Terraform plan\n",
    "    * Create a CI workflow to trigger on `pull-request` to `develop` branch\n",
    "    * Execute demo"
   ]
  },
  {
   "cell_type": "markdown",
   "metadata": {},
   "source": [
    "#### 6B.7: Continuous Delivery\n",
    "\n",
    "https://www.youtube.com/watch?v=jCNxqXCKh2s&list=PL3MmuxUbc_hIUISrluw_A7wDSmfOhErJK&index=54\n",
    "\n",
    "* `cd-deploy.yml`\n",
    "    * Automate sections from tests: Terraform plan, Terraform apply, Docker build & ECR push, Update Lambda config\n",
    "    * Create a CD workflow to trigger on `push` to `develop` branch\n",
    "    * Execute demo"
   ]
  },
  {
   "cell_type": "markdown",
   "metadata": {},
   "source": [
    "#### Alternative CICD Solutions\n",
    "\n",
    "* Using args and env variables in docker image, and leveraging makefile commands in cicd\n",
    "    * Check the repo [README](https://github.com/Nakulbajaj101/mlops-zoomcamp/blob/main/06-best-practices/code-practice/README.md)\n",
    "    * Using the args [Dockerfile](https://github.com/Nakulbajaj101/mlops-zoomcamp/blob/main/06-best-practices/code-practice/Dockerfile)\n",
    "    * Using build args [ECR terraform](https://github.com/Nakulbajaj101/mlops-zoomcamp/blob/main/06-best-practices/code-practice/deploy/modules/ecr/main.tf)\n",
    "    * Updating lambda env variables [Post deploy](https://github.com/Nakulbajaj101/mlops-zoomcamp/blob/main/06-best-practices/code-practice/deploy/run_apply_local.sh)\n",
    "    * Making use of make file commands in CICD [CICD](https://github.com/Nakulbajaj101/mlops-zoomcamp/tree/main/.github/workflows)"
   ]
  }
 ],
 "metadata": {
  "language_info": {
   "name": "python"
  }
 },
 "nbformat": 4,
 "nbformat_minor": 2
}
