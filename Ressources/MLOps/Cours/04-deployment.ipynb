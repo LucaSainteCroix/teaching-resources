{
 "cells": [
  {
   "cell_type": "markdown",
   "metadata": {},
   "source": [
    "# 04 - Deployment"
   ]
  },
  {
   "cell_type": "markdown",
   "metadata": {},
   "source": [
    "## 4.1 Three ways of deploying a model\n",
    "\n",
    "<a href=\"https://www.youtube.com/watch?v=JMGe4yIoBRA&list=PL3MmuxUbc_hIUISrluw_A7wDSmfOhErJK\">\n",
    "  <img src=\"images/thumbnail-4-01.jpg\">\n",
    "</a>"
   ]
  },
  {
   "cell_type": "markdown",
   "metadata": {},
   "source": [
    "## 4.2 Web-services: Deploying models with Flask and Docker\n",
    "\n",
    "<a href=\"https://www.youtube.com/watch?v=D7wfMAdgdF8&list=PL3MmuxUbc_hIUISrluw_A7wDSmfOhErJK\">\n",
    "  <img src=\"images/thumbnail-4-02.jpg\">\n",
    "</a>\n",
    "\n",
    "[See code here](../mlops-zoomcamp/04-deployment/web-service/)"
   ]
  },
  {
   "cell_type": "markdown",
   "metadata": {},
   "source": [
    "## 4.3 Web-services: Getting the models from the model registry (MLflow)\n",
    "\n",
    "<a href=\"https://www.youtube.com/watch?v=aewOpHSCkqI&list=PL3MmuxUbc_hIUISrluw_A7wDSmfOhErJK\">\n",
    "  <img src=\"images/thumbnail-4-03.jpg\">\n",
    "</a>\n",
    "\n",
    "\n",
    "[See code here](../mlops-zoomcamp/04-deployment/web-service-mlflow/)"
   ]
  },
  {
   "cell_type": "markdown",
   "metadata": {},
   "source": [
    "### Récupérer un modèle stocké sur Azure Blob Storage"
   ]
  },
  {
   "cell_type": "markdown",
   "metadata": {},
   "source": [
    "- Créer un container dans un storage account, suivre [ces instructions](https://mlflow.org/docs/latest/tracking/artifacts-stores.html#azure-blob-storage) MLFlow.\n",
    "- Récupérer la `AZURE_STORAGE_CONNECTION_STRING` depuis l'onglet Access Keys du storage account sur Azure ou avec cette commande `az storage account show-connection-string --resource-group PythonAzureExample-Storage-rg --name pythonazurestorage12345`\n",
    "- Bien mettre la `AZURE_STORAGE_CONNECTION_STRING` en variable d'environnement au lancement du serveur MLFlow **et** depuis le client (lors du lancement des runs MLFlow et du log du modèle)\n",
    "\n",
    "Récupérer le modèle pickle : "
   ]
  },
  {
   "cell_type": "markdown",
   "metadata": {},
   "source": [
    "```python\n",
    "from azure.storage.blob import BlobClient\n",
    "\n",
    "# Retrieve the connection string from an environment variable. Note that a\n",
    "# connection string grants all permissions to the caller, making it less\n",
    "# secure than obtaining a BlobClient object using credentials.\n",
    "conn_string = os.environ[\"AZURE_STORAGE_CONNECTION_STRING\"]\n",
    "\n",
    "# Create the client object for the resource identified by the connection\n",
    "# string, indicating also the blob container and the name of the specific\n",
    "# blob we want.\n",
    "blob_client = BlobClient.from_connection_string(\n",
    "    conn_string,\n",
    "    container_name=\"lsc-mlflow\",\n",
    "    blob_name=f\"mlartifacts/1/{RUN_ID}/artifacts/model/model.pkl\",\n",
    ")\n",
    "\n",
    "blob = blob_client.download_blob().readall()\n",
    "\n",
    "model = pickle.loads(blob)\n",
    "\n",
    "```"
   ]
  },
  {
   "cell_type": "markdown",
   "metadata": {},
   "source": [
    "## 4.4 (Very Optional, keep it for later) Streaming: Deploying models with Kinesis and Lambda\n",
    "\n",
    "<a href=\"https://www.youtube.com/watch?v=TCqr9HNcrsI&list=PL3MmuxUbc_hIUISrluw_A7wDSmfOhErJK\">\n",
    "  <img src=\"images/thumbnail-4-04.jpg\">\n",
    "</a>\n",
    "\n",
    "Note: Since some of the steps in this video requires the use of AWS services which incur some cost on the user, it is optional to code along to this video. However, as material in Module 6 is based on the content of this video, we still highly recommended that you watch it.\n",
    "\n",
    "[See code here](../mlops-zoomcamp/04-deployment/streaming/)"
   ]
  },
  {
   "cell_type": "markdown",
   "metadata": {},
   "source": [
    "## 4.5 Batch: Preparing a scoring script\n",
    "\n",
    "<a href=\"https://www.youtube.com/watch?v=18Lbaaeigek&list=PL3MmuxUbc_hIUISrluw_A7wDSmfOhErJK\">\n",
    "  <img src=\"images/thumbnail-4-05.jpg\">\n",
    "</a>\n",
    "\n",
    "[See code here](../mlops-zoomcamp/04-deployment/batch/)"
   ]
  },
  {
   "cell_type": "markdown",
   "metadata": {},
   "source": [
    "### Batch Exercise\n",
    "Turn the random-forest.ipynb notebook for training a model into a notebook for applying the model\n",
    "* Turn the notebook into a script \n",
    "* Clean it and parametrize\n",
    "- Make it work by getting the model from Azure Blob Storage.\n",
    "- Make the script runnable from command line with args\n",
    "- Deploy it as a docker container."
   ]
  },
  {
   "cell_type": "markdown",
   "metadata": {},
   "source": [
    "### (Optional) Batch scoring with Mage (Exercise)\n",
    "\n",
    "No video - you already know how to do it:\n",
    "\n",
    "* Connect to MLFlow\n",
    "* Create a transformation block\n",
    "* Get the model from the registry, apply it"
   ]
  },
  {
   "cell_type": "markdown",
   "metadata": {},
   "source": []
  }
 ],
 "metadata": {
  "language_info": {
   "name": "python"
  }
 },
 "nbformat": 4,
 "nbformat_minor": 2
}
