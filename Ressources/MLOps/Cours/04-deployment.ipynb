{
 "cells": [
  {
   "cell_type": "markdown",
   "metadata": {},
   "source": [
    "# 04 - Deployment"
   ]
  },
  {
   "cell_type": "markdown",
   "metadata": {},
   "source": [
    "## 4.1 Three ways of deploying a model\n",
    "\n",
    "<a href=\"https://www.youtube.com/watch?v=JMGe4yIoBRA&list=PL3MmuxUbc_hIUISrluw_A7wDSmfOhErJK\">\n",
    "  <img src=\"images/thumbnail-4-01.jpg\">\n",
    "</a>"
   ]
  },
  {
   "cell_type": "markdown",
   "metadata": {},
   "source": [
    "## 4.2 Web-services: Deploying models with Flask and Docker\n",
    "\n",
    "<a href=\"https://www.youtube.com/watch?v=D7wfMAdgdF8&list=PL3MmuxUbc_hIUISrluw_A7wDSmfOhErJK\">\n",
    "  <img src=\"images/thumbnail-4-02.jpg\">\n",
    "</a>\n",
    "\n",
    "[See code here](../mlops-zoomcamp/04-deployment/web-service/)"
   ]
  },
  {
   "cell_type": "markdown",
   "metadata": {},
   "source": [
    "## 4.3 Web-services: Getting the models from the model registry (MLflow)\n",
    "\n",
    "<a href=\"https://www.youtube.com/watch?v=aewOpHSCkqI&list=PL3MmuxUbc_hIUISrluw_A7wDSmfOhErJK\">\n",
    "  <img src=\"images/thumbnail-4-03.jpg\">\n",
    "</a>\n",
    "\n",
    "\n",
    "[See code here](../mlops-zoomcamp/04-deployment/web-service-mlflow/)"
   ]
  },
  {
   "cell_type": "markdown",
   "metadata": {},
   "source": [
    "## 4.4 (Very Optional, keep it for later) Streaming: Deploying models with Kinesis and Lambda\n",
    "\n",
    "<a href=\"https://www.youtube.com/watch?v=TCqr9HNcrsI&list=PL3MmuxUbc_hIUISrluw_A7wDSmfOhErJK\">\n",
    "  <img src=\"images/thumbnail-4-04.jpg\">\n",
    "</a>\n",
    "\n",
    "Note: Since some of the steps in this video requires the use of AWS services which incur some cost on the user, it is optional to code along to this video. However, as material in Module 6 is based on the content of this video, we still highly recommended that you watch it.\n",
    "\n",
    "[See code here](../mlops-zoomcamp/04-deployment/streaming/)"
   ]
  },
  {
   "cell_type": "markdown",
   "metadata": {},
   "source": [
    "## 4.5 Batch: Preparing a scoring script\n",
    "\n",
    "<a href=\"https://www.youtube.com/watch?v=18Lbaaeigek&list=PL3MmuxUbc_hIUISrluw_A7wDSmfOhErJK\">\n",
    "  <img src=\"images/thumbnail-4-05.jpg\">\n",
    "</a>\n",
    "\n",
    "[See code here](../mlops-zoomcamp/04-deployment/batch/)"
   ]
  },
  {
   "cell_type": "markdown",
   "metadata": {},
   "source": [
    "## 4.6 - Batch scoring with Mage (Exercise)\n",
    "\n",
    "No video - you already know how to do it:\n",
    "\n",
    "* Connect to MLFlow\n",
    "* Create a transformation block\n",
    "* Get the model from the registry, apply it"
   ]
  },
  {
   "cell_type": "markdown",
   "metadata": {},
   "source": []
  }
 ],
 "metadata": {
  "language_info": {
   "name": "python"
  }
 },
 "nbformat": 4,
 "nbformat_minor": 2
}
